{
 "cells": [
  {
   "cell_type": "markdown",
   "metadata": {},
   "source": [
    "# MAT281 - Laboratorios N°07"
   ]
  },
  {
   "cell_type": "markdown",
   "metadata": {},
   "source": [
    "<a id='p1'></a>\n",
    "## I.- Problema 01\n",
    "\n",
    "\n",
    "<img src=\"https://upload.wikimedia.org/wikipedia/commons/thumb/b/b6/Anscombe.svg/1200px-Anscombe.svg.png\" width=\"360\" height=\"360\" align=\"center\"/>\n",
    "\n"
   ]
  },
  {
   "cell_type": "markdown",
   "metadata": {},
   "source": [
    "El **cuarteto de Anscombe** comprende cuatro conjuntos de datos que tienen las mismas propiedades estadísticas, pero que evidentemente son distintas al inspeccionar sus gráficos respectivos.\n",
    "\n",
    "Cada conjunto consiste de once puntos (x, y) y fueron construidos por el estadístico F. J. Anscombe. El cuarteto es una demostración de la importancia de mirar gráficamente un conjunto de datos antes de analizarlos."
   ]
  },
  {
   "cell_type": "code",
   "execution_count": 1,
   "metadata": {},
   "outputs": [],
   "source": [
    "import os\n",
    "import numpy as np\n",
    "import pandas as pd\n",
    "import matplotlib.pyplot as plt\n",
    "import seaborn as sns\n",
    "\n",
    "%matplotlib inline\n",
    "sns.set_palette(\"deep\", desat=.6)\n",
    "sns.set(rc={'figure.figsize':(11.7,8.27)})"
   ]
  },
  {
   "cell_type": "code",
   "execution_count": 2,
   "metadata": {},
   "outputs": [
    {
     "data": {
      "text/html": [
       "<div>\n",
       "<style scoped>\n",
       "    .dataframe tbody tr th:only-of-type {\n",
       "        vertical-align: middle;\n",
       "    }\n",
       "\n",
       "    .dataframe tbody tr th {\n",
       "        vertical-align: top;\n",
       "    }\n",
       "\n",
       "    .dataframe thead th {\n",
       "        text-align: right;\n",
       "    }\n",
       "</style>\n",
       "<table border=\"1\" class=\"dataframe\">\n",
       "  <thead>\n",
       "    <tr style=\"text-align: right;\">\n",
       "      <th></th>\n",
       "      <th>x</th>\n",
       "      <th>y</th>\n",
       "      <th>grupo</th>\n",
       "    </tr>\n",
       "  </thead>\n",
       "  <tbody>\n",
       "    <tr>\n",
       "      <th>0</th>\n",
       "      <td>10</td>\n",
       "      <td>8.04</td>\n",
       "      <td>Grupo_1</td>\n",
       "    </tr>\n",
       "    <tr>\n",
       "      <th>1</th>\n",
       "      <td>8</td>\n",
       "      <td>6.95</td>\n",
       "      <td>Grupo_1</td>\n",
       "    </tr>\n",
       "    <tr>\n",
       "      <th>2</th>\n",
       "      <td>13</td>\n",
       "      <td>7.58</td>\n",
       "      <td>Grupo_1</td>\n",
       "    </tr>\n",
       "    <tr>\n",
       "      <th>3</th>\n",
       "      <td>9</td>\n",
       "      <td>8.81</td>\n",
       "      <td>Grupo_1</td>\n",
       "    </tr>\n",
       "    <tr>\n",
       "      <th>4</th>\n",
       "      <td>11</td>\n",
       "      <td>8.33</td>\n",
       "      <td>Grupo_1</td>\n",
       "    </tr>\n",
       "  </tbody>\n",
       "</table>\n",
       "</div>"
      ],
      "text/plain": [
       "    x     y    grupo\n",
       "0  10  8.04  Grupo_1\n",
       "1   8  6.95  Grupo_1\n",
       "2  13  7.58  Grupo_1\n",
       "3   9  8.81  Grupo_1\n",
       "4  11  8.33  Grupo_1"
      ]
     },
     "execution_count": 2,
     "metadata": {},
     "output_type": "execute_result"
    }
   ],
   "source": [
    "# cargar datos\n",
    "df = pd.read_csv(os.path.join(\"data\",\"anscombe.csv\"), sep=\",\")\n",
    "df.head()"
   ]
  },
  {
   "cell_type": "markdown",
   "metadata": {},
   "source": [
    "Basado en la información presentada responda las siguientes preguntas:\n",
    "\n",
    "1. Gráfique mediante un gráfico tipo **scatter** cada grupo. A simple vista, ¿ los grupos son muy distintos entre si?.\n",
    "2. Realice un resumen de las medidas estadísticas más significativas ocuapando el comando **describe** para cada grupo. Interprete.\n",
    "3. Realice un ajuste lineal para cada grupo. Además, grafique los resultados de la regresión lineal para cada grupo. Interprete.\n",
    "4. Calcule los resultados de las métricas para cada grupo. Interprete.\n",
    "5. Es claro que el ajuste lineal para algunos grupos no es el correcto. Existen varias formas de solucionar este problema (eliminar outliers, otros modelos, etc.). Identifique una estrategia para que el modelo de regresión lineal ajuste de mejor manera e implemente otros modelos en los casos que encuentre necesario.  "
   ]
  },
  {
   "cell_type": "markdown",
   "metadata": {},
   "source": [
    "1.- Gráfique mediante un gráfico tipo **scatter** cada grupo. A simple vista, ¿ los grupos son muy distintos entre si?."
   ]
  },
  {
   "cell_type": "code",
   "execution_count": 23,
   "metadata": {},
   "outputs": [
    {
     "data": {
      "image/png": "[encoded data removed]",
      "text/plain": [
       "<Figure size 842.4x595.44 with 1 Axes>"
      ]
     },
     "metadata": {},
     "output_type": "display_data"
    }
   ],
   "source": [
    "fig,ax = plt.subplots() #primero veamos la distribucion de todos los puntos\n",
    "for i in range(1,5): #para cada fila de la tabla\n",
    "    i = 'Grupo_'+str(i) #cada grupo del 1 al 4\n",
    "    df_aux = df.loc[df['grupo']== i]\n",
    "    x_axis = df_aux['x']\n",
    "    y_axis = df_aux['y']\n",
    "    ax.scatter(x_axis,y_axis,label=i)\n",
    "\n",
    "    ax.legend()\n",
    "    ax.grid()\n",
    "\n",
    "    plt.xlabel('x')\n",
    "    plt.ylabel('y')"
   ]
  },
  {
   "cell_type": "code",
   "execution_count": 6,
   "metadata": {},
   "outputs": [
    {
     "data": {
      "text/plain": [
       "Text(0.5, 1.0, 'Grupo 4')"
      ]
     },
     "execution_count": 6,
     "metadata": {},
     "output_type": "execute_result"
    },
    {
     "data": {
      "image/png": "[encoded data removed]",
      "text/plain": [
       "<Figure size 842.4x595.44 with 4 Axes>"
      ]
     },
     "metadata": {},
     "output_type": "display_data"
    }
   ],
   "source": [
    "\n",
    "x1=df.loc[df['grupo']=='Grupo_1']['x']\n",
    "y1=df.loc[df['grupo']=='Grupo_1']['y']\n",
    "x2=df.loc[df['grupo']=='Grupo_2']['x']\n",
    "y2=df.loc[df['grupo']=='Grupo_2']['y']\n",
    "x3=df.loc[df['grupo']=='Grupo_3']['x']\n",
    "y3=df.loc[df['grupo']=='Grupo_3']['y']\n",
    "x4=df.loc[df['grupo']=='Grupo_4']['x']\n",
    "y4=df.loc[df['grupo']=='Grupo_4']['y']\n",
    "\n",
    "plt.subplot(221)\n",
    "plt.scatter(x1,y1,color='blue')\n",
    "plt.title('Grupo 1')\n",
    "\n",
    "plt.subplot(222)\n",
    "plt.scatter(x2,y2,color='orange')\n",
    "plt.title('Grupo 2')\n",
    "\n",
    "plt.subplot(223)\n",
    "plt.scatter(x3,y3,color='green')\n",
    "plt.title('Grupo 3')\n",
    "\n",
    "plt.subplot(224)\n",
    "g_y4=plt.scatter(x4,y4,color='red')\n",
    "plt.title('Grupo 4')"
   ]
  },
  {
   "cell_type": "markdown",
   "metadata": {},
   "source": [
    "Notemos que los gráficos son muy distintos entre sí, el azul (gráfico 1) tiene un comportamiento de zigzag, el naranja (gráfico 2) mas de parabolael verde (gráfico 3) tiene un comportamiento casi lineal, el rojo (gráfico 4) lineal paralelo al eje."
   ]
  },
  {
   "cell_type": "markdown",
   "metadata": {},
   "source": [
    "2.- Realice un resumen de las medidas estadísticas más significativas ocuapando el comando **describe** para cada grupo. Interprete."
   ]
  },
  {
   "cell_type": "code",
   "execution_count": 7,
   "metadata": {},
   "outputs": [
    {
     "name": "stdout",
     "output_type": "stream",
     "text": [
      "Grupo_1\n",
      "               x          y\n",
      "count  11.000000  11.000000\n",
      "mean    9.000000   7.500909\n",
      "std     3.316625   2.031568\n",
      "min     4.000000   4.260000\n",
      "25%     6.500000   6.315000\n",
      "50%     9.000000   7.580000\n",
      "75%    11.500000   8.570000\n",
      "max    14.000000  10.840000\n",
      "\n",
      "Grupo_2\n",
      "               x          y\n",
      "count  11.000000  11.000000\n",
      "mean    9.000000   7.500909\n",
      "std     3.316625   2.031657\n",
      "min     4.000000   3.100000\n",
      "25%     6.500000   6.695000\n",
      "50%     9.000000   8.140000\n",
      "75%    11.500000   8.950000\n",
      "max    14.000000   9.260000\n",
      "\n",
      "Grupo_3\n",
      "               x          y\n",
      "count  11.000000  11.000000\n",
      "mean    9.000000   7.500000\n",
      "std     3.316625   2.030424\n",
      "min     4.000000   5.390000\n",
      "25%     6.500000   6.250000\n",
      "50%     9.000000   7.110000\n",
      "75%    11.500000   7.980000\n",
      "max    14.000000  12.740000\n",
      "\n",
      "Grupo_4\n",
      "               x          y\n",
      "count  11.000000  11.000000\n",
      "mean    9.000000   7.500909\n",
      "std     3.316625   2.030579\n",
      "min     8.000000   5.250000\n",
      "25%     8.000000   6.170000\n",
      "50%     8.000000   7.040000\n",
      "75%     8.000000   8.190000\n",
      "max    19.000000  12.500000\n",
      "\n"
     ]
    }
   ],
   "source": [
    "for i in range(1,5):\n",
    "    i = 'Grupo_'+str(i)\n",
    "    print(i)\n",
    "    print(df.loc[df['grupo']== i].describe())\n",
    "    print()"
   ]
  },
  {
   "cell_type": "markdown",
   "metadata": {},
   "source": [
    "Notemos que los 4 gráficos tienen medidas estadísticas muy parecidas entre si."
   ]
  },
  {
   "cell_type": "markdown",
   "metadata": {},
   "source": [
    "3.- Realice un ajuste lineal para cada grupo. Además, grafique los resultados de la regresión lineal para cada grupo. Interprete."
   ]
  },
  {
   "cell_type": "code",
   "execution_count": 11,
   "metadata": {},
   "outputs": [
    {
     "data": {
      "image/png": "[encoded data removed]",
      "text/plain": [
       "<Figure size 842.4x595.44 with 4 Axes>"
      ]
     },
     "metadata": {},
     "output_type": "display_data"
    }
   ],
   "source": [
    "from sklearn.linear_model import LinearRegression\n",
    "\n",
    "list=[[x1,y1],[x2,y2],[x3,y3],[x4,y4]]\n",
    "model_rl = LinearRegression() # Creando el modelo.\n",
    "\n",
    "for i in range(0,4):\n",
    "    model_rl.fit(pd.DataFrame(list[i][0]),pd.DataFrame(list[i][1]))\n",
    "    beta_0 = model_rl.intercept_\n",
    "    beta_1 = model_rl.coef_[0]\n",
    "    \n",
    "    plt.subplot(2,2,i+1)\n",
    "    plt.scatter(list[i][0],list[i][1])\n",
    "    plt.title('Grupo_'+str(i+1))\n",
    "    \n",
    "    x_range = np.arange(1,20,0.1)\n",
    "    plt.plot(x_range,beta_0+beta_1*x_range)"
   ]
  },
  {
   "cell_type": "markdown",
   "metadata": {},
   "source": [
    "Notemos que el ajuste lineal es el mismo para los 4 gráficos.\n",
    "1.- solo 3 puntos pasan por la recta, notemos que hay 3 puntos por encima de la recta y 3 por debajo, lo cual hace una distribución bastante \"simétrica\" respecto a la recta\n",
    "2.- notemos que hay 2 puntos en la recta y los puntos bajo la recta tienen mayor distancia a ella que los puntos sobre ella.\n",
    "3.- vemamos que el punto de mas arriba del eje y es el que altera mayormente la lineal, ya que es mucha la distancia a la recta, se podria considerar como dato \"anomalo\"\n",
    "4.- fijemosnos que nuevamente el mayor dato del eje y es el que da la lineal, dado que los demas se podria considerar como una paralela al eje y."
   ]
  },
  {
   "cell_type": "markdown",
   "metadata": {},
   "source": [
    "4.- Calcule los resultados de las métricas para cada grupo. Interprete."
   ]
  },
  {
   "cell_type": "code",
   "execution_count": 13,
   "metadata": {},
   "outputs": [
    {
     "name": "stdout",
     "output_type": "stream",
     "text": [
      "                            OLS Regression Results                            \n",
      "==============================================================================\n",
      "Dep. Variable:                      y   R-squared:                       0.667\n",
      "Model:                            OLS   Adj. R-squared:                  0.629\n",
      "Method:                 Least Squares   F-statistic:                     17.99\n",
      "Date:                Wed, 10 Nov 2021   Prob (F-statistic):            0.00217\n",
      "Time:                        10:39:10   Log-Likelihood:                -16.841\n",
      "No. Observations:                  11   AIC:                             37.68\n",
      "Df Residuals:                       9   BIC:                             38.48\n",
      "Df Model:                           1                                         \n",
      "Covariance Type:            nonrobust                                         \n",
      "==============================================================================\n",
      "                 coef    std err          t      P>|t|      [0.025      0.975]\n",
      "------------------------------------------------------------------------------\n",
      "const          3.0001      1.125      2.667      0.026       0.456       5.544\n",
      "x              0.5001      0.118      4.241      0.002       0.233       0.767\n",
      "==============================================================================\n",
      "Omnibus:                        0.082   Durbin-Watson:                   3.212\n",
      "Prob(Omnibus):                  0.960   Jarque-Bera (JB):                0.289\n",
      "Skew:                          -0.122   Prob(JB):                        0.865\n",
      "Kurtosis:                       2.244   Cond. No.                         29.1\n",
      "==============================================================================\n",
      "\n",
      "Notes:\n",
      "[1] Standard Errors assume that the covariance matrix of the errors is correctly specified.\n"
     ]
    },
    {
     "name": "stderr",
     "output_type": "stream",
     "text": [
      "C:\\Users\\arisa\\anaconda3\\lib\\site-packages\\scipy\\stats\\stats.py:1603: UserWarning: kurtosistest only valid for n>=20 ... continuing anyway, n=11\n",
      "  warnings.warn(\"kurtosistest only valid for n>=20 ... continuing \"\n"
     ]
    }
   ],
   "source": [
    "#grupo1\n",
    "import statsmodels.api as sm\n",
    "\n",
    "model = sm.OLS(y1, sm.add_constant(x1))\n",
    "results = model.fit()\n",
    "print(results.summary())"
   ]
  },
  {
   "cell_type": "code",
   "execution_count": 27,
   "metadata": {},
   "outputs": [
    {
     "name": "stderr",
     "output_type": "stream",
     "text": [
      "ERROR: Could not find a version that satisfies the requirement metrics_regression\n",
      "ERROR: No matching distribution found for metrics_regression\n"
     ]
    },
    {
     "ename": "ModuleNotFoundError",
     "evalue": "No module named 'metrics_regression'",
     "output_type": "error",
     "traceback": [
      "\u001b[1;31m---------------------------------------------------------------------------\u001b[0m",
      "\u001b[1;31mModuleNotFoundError\u001b[0m                       Traceback (most recent call last)",
      "\u001b[1;32m<ipython-input-27-dc1f96bf6c1d>\u001b[0m in \u001b[0;36m<module>\u001b[1;34m\u001b[0m\n\u001b[0;32m      2\u001b[0m \u001b[1;33m\u001b[0m\u001b[0m\n\u001b[0;32m      3\u001b[0m \u001b[0mget_ipython\u001b[0m\u001b[1;33m(\u001b[0m\u001b[1;33m)\u001b[0m\u001b[1;33m.\u001b[0m\u001b[0msystem\u001b[0m\u001b[1;33m(\u001b[0m\u001b[1;34m' pip install metrics_regression'\u001b[0m\u001b[1;33m)\u001b[0m\u001b[1;33m\u001b[0m\u001b[1;33m\u001b[0m\u001b[0m\n\u001b[1;32m----> 4\u001b[1;33m \u001b[1;32mfrom\u001b[0m \u001b[0mmetrics_regression\u001b[0m \u001b[1;32mimport\u001b[0m \u001b[1;33m*\u001b[0m\u001b[1;33m\u001b[0m\u001b[1;33m\u001b[0m\u001b[0m\n\u001b[0m\u001b[0;32m      5\u001b[0m \u001b[1;33m\u001b[0m\u001b[0m\n\u001b[0;32m      6\u001b[0m \u001b[1;32mfrom\u001b[0m \u001b[0msklearn\u001b[0m\u001b[1;33m.\u001b[0m\u001b[0mmetrics\u001b[0m \u001b[1;32mimport\u001b[0m \u001b[0mr2_score\u001b[0m\u001b[1;33m\u001b[0m\u001b[1;33m\u001b[0m\u001b[0m\n",
      "\u001b[1;31mModuleNotFoundError\u001b[0m: No module named 'metrics_regression'"
     ]
    }
   ],
   "source": [
    "#código error para el grupo 1\n",
    "\n",
    "! pip install metrics_regression\n",
    "from metrics_regression import *\n",
    "\n",
    "from sklearn.metrics import r2_score\n",
    "\n",
    "lista=[]\n",
    "for i in model_rl.predict(pd.DataFrame(x1)).tolist():\n",
    "    lista.append(i[0])\n",
    "lista\n",
    "\n",
    "# ejemplo \n",
    "df_temp = pd.DataFrame(\n",
    "    {\n",
    "        'y':y1,\n",
    "        'yhat': lista\n",
    "        }\n",
    ")\n",
    "\n",
    "df_metrics = summary_metrics(df_temp)\n",
    "print('\\nMetricas para el grupo 1:\\n')\n",
    "print(df_metrics)"
   ]
  },
  {
   "cell_type": "code",
   "execution_count": 14,
   "metadata": {},
   "outputs": [
    {
     "name": "stdout",
     "output_type": "stream",
     "text": [
      "                            OLS Regression Results                            \n",
      "==============================================================================\n",
      "Dep. Variable:                      y   R-squared:                       0.666\n",
      "Model:                            OLS   Adj. R-squared:                  0.629\n",
      "Method:                 Least Squares   F-statistic:                     17.97\n",
      "Date:                Wed, 10 Nov 2021   Prob (F-statistic):            0.00218\n",
      "Time:                        10:39:49   Log-Likelihood:                -16.846\n",
      "No. Observations:                  11   AIC:                             37.69\n",
      "Df Residuals:                       9   BIC:                             38.49\n",
      "Df Model:                           1                                         \n",
      "Covariance Type:            nonrobust                                         \n",
      "==============================================================================\n",
      "                 coef    std err          t      P>|t|      [0.025      0.975]\n",
      "------------------------------------------------------------------------------\n",
      "const          3.0009      1.125      2.667      0.026       0.455       5.547\n",
      "x              0.5000      0.118      4.239      0.002       0.233       0.767\n",
      "==============================================================================\n",
      "Omnibus:                        1.594   Durbin-Watson:                   2.188\n",
      "Prob(Omnibus):                  0.451   Jarque-Bera (JB):                1.108\n",
      "Skew:                          -0.567   Prob(JB):                        0.575\n",
      "Kurtosis:                       1.936   Cond. No.                         29.1\n",
      "==============================================================================\n",
      "\n",
      "Notes:\n",
      "[1] Standard Errors assume that the covariance matrix of the errors is correctly specified.\n"
     ]
    },
    {
     "name": "stderr",
     "output_type": "stream",
     "text": [
      "C:\\Users\\arisa\\anaconda3\\lib\\site-packages\\scipy\\stats\\stats.py:1603: UserWarning: kurtosistest only valid for n>=20 ... continuing anyway, n=11\n",
      "  warnings.warn(\"kurtosistest only valid for n>=20 ... continuing \"\n"
     ]
    }
   ],
   "source": [
    "#grupo2\n",
    "model = sm.OLS(y2, sm.add_constant(x2))\n",
    "results = model.fit()\n",
    "print(results.summary())"
   ]
  },
  {
   "cell_type": "code",
   "execution_count": 33,
   "metadata": {},
   "outputs": [
    {
     "ename": "ModuleNotFoundError",
     "evalue": "No module named 'metrics_regression'",
     "output_type": "error",
     "traceback": [
      "\u001b[1;31m---------------------------------------------------------------------------\u001b[0m",
      "\u001b[1;31mModuleNotFoundError\u001b[0m                       Traceback (most recent call last)",
      "\u001b[1;32m<ipython-input-33-acb597174022>\u001b[0m in \u001b[0;36m<module>\u001b[1;34m\u001b[0m\n\u001b[0;32m      1\u001b[0m \u001b[1;31m# código error para el grupo 2\u001b[0m\u001b[1;33m\u001b[0m\u001b[1;33m\u001b[0m\u001b[1;33m\u001b[0m\u001b[0m\n\u001b[1;32m----> 2\u001b[1;33m \u001b[1;32mfrom\u001b[0m \u001b[0mmetrics_regression\u001b[0m \u001b[1;32mimport\u001b[0m \u001b[1;33m*\u001b[0m\u001b[1;33m\u001b[0m\u001b[1;33m\u001b[0m\u001b[0m\n\u001b[0m\u001b[0;32m      3\u001b[0m \u001b[1;32mfrom\u001b[0m \u001b[0msklearn\u001b[0m\u001b[1;33m.\u001b[0m\u001b[0mmetrics\u001b[0m \u001b[1;32mimport\u001b[0m \u001b[0mr2_score\u001b[0m\u001b[1;33m\u001b[0m\u001b[1;33m\u001b[0m\u001b[0m\n\u001b[0;32m      4\u001b[0m \u001b[1;33m\u001b[0m\u001b[0m\n\u001b[0;32m      5\u001b[0m \u001b[0mlista\u001b[0m\u001b[1;33m=\u001b[0m\u001b[1;33m[\u001b[0m\u001b[1;33m]\u001b[0m\u001b[1;33m\u001b[0m\u001b[1;33m\u001b[0m\u001b[0m\n",
      "\u001b[1;31mModuleNotFoundError\u001b[0m: No module named 'metrics_regression'"
     ]
    }
   ],
   "source": [
    "# código error para el grupo 2 \n",
    "from metrics_regression import *\n",
    "from sklearn.metrics import r2_score\n",
    "\n",
    "lista=[]\n",
    "for i in model_rl.predict(pd.DataFrame(x2)).tolist():\n",
    "    lista.append(i[0])\n",
    "lista\n",
    "\n",
    "# ejemplo \n",
    "df_temp = pd.DataFrame(\n",
    "    {\n",
    "        'y':y2,\n",
    "        'yhat': lista\n",
    "        }\n",
    ")\n",
    "\n",
    "df_metrics = summary_metrics(df_temp)\n",
    "\n",
    "print('\\nMetricas para el grupo 2:\\n')\n",
    "print(df_metrics)"
   ]
  },
  {
   "cell_type": "code",
   "execution_count": 15,
   "metadata": {},
   "outputs": [
    {
     "name": "stdout",
     "output_type": "stream",
     "text": [
      "                            OLS Regression Results                            \n",
      "==============================================================================\n",
      "Dep. Variable:                      y   R-squared:                       0.666\n",
      "Model:                            OLS   Adj. R-squared:                  0.629\n",
      "Method:                 Least Squares   F-statistic:                     17.97\n",
      "Date:                Wed, 10 Nov 2021   Prob (F-statistic):            0.00218\n",
      "Time:                        10:40:10   Log-Likelihood:                -16.838\n",
      "No. Observations:                  11   AIC:                             37.68\n",
      "Df Residuals:                       9   BIC:                             38.47\n",
      "Df Model:                           1                                         \n",
      "Covariance Type:            nonrobust                                         \n",
      "==============================================================================\n",
      "                 coef    std err          t      P>|t|      [0.025      0.975]\n",
      "------------------------------------------------------------------------------\n",
      "const          3.0025      1.124      2.670      0.026       0.459       5.546\n",
      "x              0.4997      0.118      4.239      0.002       0.233       0.766\n",
      "==============================================================================\n",
      "Omnibus:                       19.540   Durbin-Watson:                   2.144\n",
      "Prob(Omnibus):                  0.000   Jarque-Bera (JB):               13.478\n",
      "Skew:                           2.041   Prob(JB):                      0.00118\n",
      "Kurtosis:                       6.571   Cond. No.                         29.1\n",
      "==============================================================================\n",
      "\n",
      "Notes:\n",
      "[1] Standard Errors assume that the covariance matrix of the errors is correctly specified.\n"
     ]
    },
    {
     "name": "stderr",
     "output_type": "stream",
     "text": [
      "C:\\Users\\arisa\\anaconda3\\lib\\site-packages\\scipy\\stats\\stats.py:1603: UserWarning: kurtosistest only valid for n>=20 ... continuing anyway, n=11\n",
      "  warnings.warn(\"kurtosistest only valid for n>=20 ... continuing \"\n"
     ]
    }
   ],
   "source": [
    "#grupo3\n",
    "model = sm.OLS(y3, sm.add_constant(x3))\n",
    "results = model.fit()\n",
    "print(results.summary())"
   ]
  },
  {
   "cell_type": "code",
   "execution_count": 37,
   "metadata": {},
   "outputs": [
    {
     "ename": "ModuleNotFoundError",
     "evalue": "No module named 'metrics_regression'",
     "output_type": "error",
     "traceback": [
      "\u001b[1;31m---------------------------------------------------------------------------\u001b[0m",
      "\u001b[1;31mModuleNotFoundError\u001b[0m                       Traceback (most recent call last)",
      "\u001b[1;32m<ipython-input-37-51bd3dcd7fe0>\u001b[0m in \u001b[0;36m<module>\u001b[1;34m\u001b[0m\n\u001b[0;32m      1\u001b[0m \u001b[1;31m# código error para el grupo 3\u001b[0m\u001b[1;33m\u001b[0m\u001b[1;33m\u001b[0m\u001b[1;33m\u001b[0m\u001b[0m\n\u001b[1;32m----> 2\u001b[1;33m \u001b[1;32mfrom\u001b[0m \u001b[0mmetrics_regression\u001b[0m \u001b[1;32mimport\u001b[0m \u001b[1;33m*\u001b[0m\u001b[1;33m\u001b[0m\u001b[1;33m\u001b[0m\u001b[0m\n\u001b[0m\u001b[0;32m      3\u001b[0m \u001b[1;32mfrom\u001b[0m \u001b[0msklearn\u001b[0m\u001b[1;33m.\u001b[0m\u001b[0mmetrics\u001b[0m \u001b[1;32mimport\u001b[0m \u001b[0mr2_score\u001b[0m\u001b[1;33m\u001b[0m\u001b[1;33m\u001b[0m\u001b[0m\n\u001b[0;32m      4\u001b[0m \u001b[1;33m\u001b[0m\u001b[0m\n\u001b[0;32m      5\u001b[0m \u001b[0mlista\u001b[0m\u001b[1;33m=\u001b[0m\u001b[1;33m[\u001b[0m\u001b[1;33m]\u001b[0m\u001b[1;33m\u001b[0m\u001b[1;33m\u001b[0m\u001b[0m\n",
      "\u001b[1;31mModuleNotFoundError\u001b[0m: No module named 'metrics_regression'"
     ]
    }
   ],
   "source": [
    "# código error para el grupo 3 \n",
    "from metrics_regression import *\n",
    "from sklearn.metrics import r2_score\n",
    "\n",
    "lista=[]\n",
    "for i in model_rl.predict(pd.DataFrame(x3)).tolist():\n",
    "    lista.append(i[0])\n",
    "lista\n",
    "\n",
    "# ejemplo \n",
    "df_temp = pd.DataFrame(\n",
    "    {\n",
    "        'y':y3,\n",
    "        'yhat': lista\n",
    "        }\n",
    ")\n",
    "\n",
    "df_metrics = summary_metrics(df_temp)\n",
    "\n",
    "print('\\nMetricas para el grupo 1:\\n')\n",
    "print(df_metrics)\n"
   ]
  },
  {
   "cell_type": "code",
   "execution_count": 16,
   "metadata": {},
   "outputs": [
    {
     "name": "stdout",
     "output_type": "stream",
     "text": [
      "                            OLS Regression Results                            \n",
      "==============================================================================\n",
      "Dep. Variable:                      y   R-squared:                       0.667\n",
      "Model:                            OLS   Adj. R-squared:                  0.630\n",
      "Method:                 Least Squares   F-statistic:                     18.00\n",
      "Date:                Wed, 10 Nov 2021   Prob (F-statistic):            0.00216\n",
      "Time:                        10:40:41   Log-Likelihood:                -16.833\n",
      "No. Observations:                  11   AIC:                             37.67\n",
      "Df Residuals:                       9   BIC:                             38.46\n",
      "Df Model:                           1                                         \n",
      "Covariance Type:            nonrobust                                         \n",
      "==============================================================================\n",
      "                 coef    std err          t      P>|t|      [0.025      0.975]\n",
      "------------------------------------------------------------------------------\n",
      "const          3.0017      1.124      2.671      0.026       0.459       5.544\n",
      "x              0.4999      0.118      4.243      0.002       0.233       0.766\n",
      "==============================================================================\n",
      "Omnibus:                        0.555   Durbin-Watson:                   1.662\n",
      "Prob(Omnibus):                  0.758   Jarque-Bera (JB):                0.524\n",
      "Skew:                           0.010   Prob(JB):                        0.769\n",
      "Kurtosis:                       1.931   Cond. No.                         29.1\n",
      "==============================================================================\n",
      "\n",
      "Notes:\n",
      "[1] Standard Errors assume that the covariance matrix of the errors is correctly specified.\n"
     ]
    },
    {
     "name": "stderr",
     "output_type": "stream",
     "text": [
      "C:\\Users\\arisa\\anaconda3\\lib\\site-packages\\scipy\\stats\\stats.py:1603: UserWarning: kurtosistest only valid for n>=20 ... continuing anyway, n=11\n",
      "  warnings.warn(\"kurtosistest only valid for n>=20 ... continuing \"\n"
     ]
    }
   ],
   "source": [
    "#grupo4\n",
    "model = sm.OLS(y4, sm.add_constant(x4))\n",
    "results = model.fit()\n",
    "print(results.summary())"
   ]
  },
  {
   "cell_type": "code",
   "execution_count": 39,
   "metadata": {},
   "outputs": [
    {
     "ename": "ModuleNotFoundError",
     "evalue": "No module named 'metrics_regression'",
     "output_type": "error",
     "traceback": [
      "\u001b[1;31m---------------------------------------------------------------------------\u001b[0m",
      "\u001b[1;31mModuleNotFoundError\u001b[0m                       Traceback (most recent call last)",
      "\u001b[1;32m<ipython-input-39-a58281b431f6>\u001b[0m in \u001b[0;36m<module>\u001b[1;34m\u001b[0m\n\u001b[0;32m      1\u001b[0m \u001b[1;31m#código error para el gráfico 4\u001b[0m\u001b[1;33m\u001b[0m\u001b[1;33m\u001b[0m\u001b[1;33m\u001b[0m\u001b[0m\n\u001b[1;32m----> 2\u001b[1;33m \u001b[1;32mfrom\u001b[0m \u001b[0mmetrics_regression\u001b[0m \u001b[1;32mimport\u001b[0m \u001b[1;33m*\u001b[0m\u001b[1;33m\u001b[0m\u001b[1;33m\u001b[0m\u001b[0m\n\u001b[0m\u001b[0;32m      3\u001b[0m \u001b[1;32mfrom\u001b[0m \u001b[0msklearn\u001b[0m\u001b[1;33m.\u001b[0m\u001b[0mmetrics\u001b[0m \u001b[1;32mimport\u001b[0m \u001b[0mr2_score\u001b[0m\u001b[1;33m\u001b[0m\u001b[1;33m\u001b[0m\u001b[0m\n\u001b[0;32m      4\u001b[0m \u001b[1;33m\u001b[0m\u001b[0m\n\u001b[0;32m      5\u001b[0m \u001b[0mlista\u001b[0m\u001b[1;33m=\u001b[0m\u001b[1;33m[\u001b[0m\u001b[1;33m]\u001b[0m\u001b[1;33m\u001b[0m\u001b[1;33m\u001b[0m\u001b[0m\n",
      "\u001b[1;31mModuleNotFoundError\u001b[0m: No module named 'metrics_regression'"
     ]
    }
   ],
   "source": [
    "#código error para el gráfico 4\n",
    "from metrics_regression import *\n",
    "from sklearn.metrics import r2_score\n",
    "\n",
    "lista=[]\n",
    "for i in model_rl.predict(pd.DataFrame(x4)).tolist():\n",
    "    lista.append(i[0])\n",
    "lista\n",
    "\n",
    "# ejemplo \n",
    "df_temp = pd.DataFrame(\n",
    "    {\n",
    "        'y':y4,\n",
    "        'yhat': lista\n",
    "        }\n",
    ")\n",
    "\n",
    "df_metrics = summary_metrics(df_temp)\n",
    "print('\\nMetricas para el grupo 4:\\n')\n",
    "print(df_metrics)"
   ]
  },
  {
   "cell_type": "markdown",
   "metadata": {},
   "source": [
    "**Intepretación**\n",
    "\n"
   ]
  },
  {
   "cell_type": "markdown",
   "metadata": {},
   "source": [
    "5.- Es claro que el ajuste lineal para algunos grupos no es el correcto. Existen varias formas de solucionar este problema (eliminar outliers, otros modelos, etc.). Identifique una estrategia para que el modelo de regresión lineal ajuste de mejor manera e implemente otros modelos en los casos que encuentre necesario."
   ]
  },
  {
   "cell_type": "code",
   "execution_count": 17,
   "metadata": {},
   "outputs": [
    {
     "data": {
      "text/plain": [
       "0.6665288123176956"
      ]
     },
     "execution_count": 17,
     "metadata": {},
     "output_type": "execute_result"
    }
   ],
   "source": [
    "#grupo1\n",
    "from sklearn import linear_model\n",
    "from sklearn.metrics import r2_score\n",
    "\n",
    "data= df.loc[df[\"grupo\"]==\"Grupo_1\"]\n",
    "X = data[[\"x\"]]\n",
    "y = data[[\"y\"]]\n",
    "\n",
    "reg_lasso = linear_model.Ridge(alpha=.5)\n",
    "\n",
    "reg_lasso= reg_lasso.fit(X,y)\n",
    "\n",
    "\n",
    "y_pred = reg_lasso.predict(X)\n",
    "\n",
    "r2_score(y, y_pred)"
   ]
  },
  {
   "cell_type": "code",
   "execution_count": 19,
   "metadata": {},
   "outputs": [
    {
     "data": {
      "image/png": "[encoded data removed]",
      "text/plain": [
       "<Figure size 842.4x595.44 with 1 Axes>"
      ]
     },
     "metadata": {},
     "output_type": "display_data"
    },
    {
     "data": {
      "text/plain": [
       "0.999999457857722"
      ]
     },
     "execution_count": 19,
     "metadata": {},
     "output_type": "execute_result"
    }
   ],
   "source": [
    "#grupo2\n",
    "import numpy\n",
    "import matplotlib.pyplot as plt\n",
    "from sklearn.preprocessing import PolynomialFeatures\n",
    "\n",
    "data= df.loc[df[\"grupo\"]==\"Grupo_2\"]\n",
    "X = data[[\"x\"]] \n",
    "y = data[[\"y\"]]\n",
    "\n",
    "X = data.x \n",
    "y = data.y\n",
    "mymodel = numpy.poly1d(numpy.polyfit(X, y, 2))\n",
    "\n",
    "myline = numpy.linspace(4, 20, 100)\n",
    "\n",
    "plt.scatter(X, y,color=\"orange\")\n",
    "plt.plot(myline, mymodel(myline))\n",
    "plt.show()\n",
    "\n",
    "\n",
    "r2_score(y, mymodel(X))"
   ]
  },
  {
   "cell_type": "code",
   "execution_count": 20,
   "metadata": {},
   "outputs": [
    {
     "data": {
      "image/png": "[encoded data removed]",
      "text/plain": [
       "<Figure size 792x612 with 1 Axes>"
      ]
     },
     "metadata": {},
     "output_type": "display_data"
    },
    {
     "data": {
      "text/plain": [
       "0.999993107581533"
      ]
     },
     "execution_count": 20,
     "metadata": {},
     "output_type": "execute_result"
    }
   ],
   "source": [
    "#grupo3\n",
    "\n",
    "from sklearn.model_selection import train_test_split\n",
    "from sklearn.linear_model import LinearRegression\n",
    "\n",
    "data= df.loc[df[\"grupo\"]==\"Grupo_3\"]\n",
    "mask=data[\"y\"]<12 ##elimina outlaier\n",
    "data= data[mask]\n",
    "X = data[[\"x\"]]\n",
    "y = data[[\"y\"]]\n",
    "\n",
    "model_rl = LinearRegression() # Creando el modelo.\n",
    "model_rl.fit(X, y) \n",
    "# graficos con seaborn\n",
    "\n",
    "beta_0 = model_rl.intercept_[0]\n",
    "beta_1 = model_rl.coef_[0]\n",
    "\n",
    "x_range = np.arange(3,15,0.5)\n",
    "\n",
    "df_plot = pd.DataFrame({'x':x_range,\n",
    "                        'y_true':[beta_0 + beta_1[0]*n for n in x_range]})\n",
    "\n",
    "df2 = pd.DataFrame({'x':X['x'],'y_true':y['y']})\n",
    "\n",
    "fig, ax = plt.subplots(figsize=(11, 8.5))\n",
    "\n",
    "\n",
    "sns.scatterplot(x='x', y='y_true', data=df2, ax=ax,color=\"green\")\n",
    "sns.lineplot(x='x', y='y_true', data=df_plot,ax=ax,color=\"red\")\n",
    "\n",
    "plt.title('Regresión Lineal Grupo 3')\n",
    "plt.xlabel('x')\n",
    "plt.ylabel('y')\n",
    "plt.show()\n",
    "\n",
    "y_pred = model_rl.predict(X)\n",
    "\n",
    "r2_score(y, y_pred)"
   ]
  },
  {
   "cell_type": "code",
   "execution_count": 28,
   "metadata": {},
   "outputs": [],
   "source": [
    "#grupo 4\n",
    "#Acá tal como el profe dijo en clases, se deben dar vuelta los ejes y sacar el \"dato anómalo\""
   ]
  }
 ],
 "metadata": {
  "kernelspec": {
   "display_name": "Python 3",
   "language": "python",
   "name": "python3"
  },
  "language_info": {
   "codemirror_mode": {
    "name": "ipython",
    "version": 3
   },
   "file_extension": ".py",
   "mimetype": "text/x-python",
   "name": "python",
   "nbconvert_exporter": "python",
   "pygments_lexer": "ipython3",
   "version": "3.8.8"
  }
 },
 "nbformat": 4,
 "nbformat_minor": 4
}
